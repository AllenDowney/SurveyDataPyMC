{
 "cells": [
  {
   "cell_type": "markdown",
   "id": "89c73067",
   "metadata": {},
   "source": [
    "# Title\n",
    "\n",
    "\n",
    "If you are not familiar with PyMC, you can [start with this chapter from *Think Bayes*](https://allendowney.github.io/ThinkBayes2/chap19.html), especially the World Cup Problem. Or you can [run that chapter on Colab](https://colab.research.google.com/github/AllenDowney/ThinkBayes2/blob/master/notebooks/chap19_v3.ipynb).\n",
    "\n",
    "You can read [the slides I used to present this example](COMING SOON)."
   ]
  },
  {
   "cell_type": "code",
   "execution_count": 1,
   "id": "ec029c55",
   "metadata": {},
   "outputs": [],
   "source": [
    "# %load_ext nb_black\n",
    "%load_ext autoreload\n",
    "%autoreload 2"
   ]
  },
  {
   "cell_type": "markdown",
   "id": "48c2f26e",
   "metadata": {},
   "source": [
    "[Click here to run this notebook on Colab](https://colab.research.google.com/github/AllenDowney/SurveyDataPyMC/blob/main/notebooks/01_tutorial.ipynb)"
   ]
  },
  {
   "cell_type": "code",
   "execution_count": 2,
   "id": "fce89fc0",
   "metadata": {},
   "outputs": [],
   "source": [
    "# Get utils.py\n",
    "\n",
    "from os.path import basename, exists\n",
    "\n",
    "def download(url):\n",
    "    filename = basename(url)\n",
    "    if not exists(filename):\n",
    "        from urllib.request import urlretrieve\n",
    "        local, _ = urlretrieve(url, filename)\n",
    "        print('Downloaded ' + local)\n",
    "  \n",
    "download('https://github.com/AllenDowney/SurveyDataPyMC/raw/main/notebooks/utils.py')"
   ]
  },
  {
   "cell_type": "code",
   "execution_count": 3,
   "id": "28ccb381",
   "metadata": {},
   "outputs": [],
   "source": [
    "try:\n",
    "    import empiricaldist\n",
    "except ImportError:\n",
    "    !pip install empiricaldist"
   ]
  },
  {
   "cell_type": "code",
   "execution_count": 4,
   "id": "f24d9f87",
   "metadata": {},
   "outputs": [],
   "source": [
    "import matplotlib.pyplot as plt\n",
    "import numpy as np\n",
    "import pandas as pd\n",
    "import pymc as pm\n",
    "\n",
    "from utils import decorate, value_counts"
   ]
  },
  {
   "cell_type": "code",
   "execution_count": 5,
   "id": "860f08d5",
   "metadata": {},
   "outputs": [],
   "source": [
    "# Make the figures smaller to save some screen real estate\n",
    "\n",
    "plt.rcParams['figure.dpi'] = 75\n",
    "plt.rcParams['figure.figsize'] = [6, 3.5]\n",
    "plt.rcParams['axes.titlelocation'] = 'left'"
   ]
  },
  {
   "cell_type": "code",
   "execution_count": 6,
   "id": "0ad453fb",
   "metadata": {},
   "outputs": [],
   "source": [
    "# Get the GSS data\n",
    "\n",
    "# This dataset is prepared in GssExtract/notebooks/02_make_extract-2022_3a.ipynb\n",
    "\n",
    "DATA_PATH = \"https://github.com/AllenDowney/GssExtract/raw/main/data/interim/\"\n",
    "filename = \"gss_extract_2022_3a.hdf\"\n",
    "download(DATA_PATH + filename)"
   ]
  },
  {
   "cell_type": "code",
   "execution_count": 7,
   "id": "b91bdaed",
   "metadata": {},
   "outputs": [
    {
     "data": {
      "text/plain": [
       "(72390, 57)"
      ]
     },
     "execution_count": 7,
     "metadata": {},
     "output_type": "execute_result"
    }
   ],
   "source": [
    "gss = pd.read_hdf(filename, \"gss\")\n",
    "gss.shape"
   ]
  },
  {
   "cell_type": "code",
   "execution_count": 8,
   "id": "260da570",
   "metadata": {},
   "outputs": [],
   "source": [
    "# https://gssdataexplorer.norc.org/variables/452/vshow\n",
    "\n",
    "question = \"\"\"Taken all together, how would you say things are these days--\n",
    "would you say that you are very happy, pretty happy, or not too happy?\n",
    "\"\"\"\n",
    "\n",
    "# 1 = very happy\n",
    "# 2 = pretty happy\n",
    "# 3 = not too happy\n",
    "\n",
    "title = \"Are you happy?\"\n",
    "subtitle = \"Percent saying very happy\"\n",
    "ylim = [10, 45]"
   ]
  },
  {
   "cell_type": "code",
   "execution_count": 9,
   "id": "f2c11951",
   "metadata": {},
   "outputs": [
    {
     "data": {
      "text/html": [
       "<div>\n",
       "<style scoped>\n",
       "    .dataframe tbody tr th:only-of-type {\n",
       "        vertical-align: middle;\n",
       "    }\n",
       "\n",
       "    .dataframe tbody tr th {\n",
       "        vertical-align: top;\n",
       "    }\n",
       "\n",
       "    .dataframe thead th {\n",
       "        text-align: right;\n",
       "    }\n",
       "</style>\n",
       "<table border=\"1\" class=\"dataframe\">\n",
       "  <thead>\n",
       "    <tr style=\"text-align: right;\">\n",
       "      <th></th>\n",
       "      <th>counts</th>\n",
       "    </tr>\n",
       "    <tr>\n",
       "      <th>values</th>\n",
       "      <th></th>\n",
       "    </tr>\n",
       "  </thead>\n",
       "  <tbody>\n",
       "    <tr>\n",
       "      <th>1.0</th>\n",
       "      <td>21550</td>\n",
       "    </tr>\n",
       "    <tr>\n",
       "      <th>2.0</th>\n",
       "      <td>37446</td>\n",
       "    </tr>\n",
       "    <tr>\n",
       "      <th>3.0</th>\n",
       "      <td>8681</td>\n",
       "    </tr>\n",
       "    <tr>\n",
       "      <th>NaN</th>\n",
       "      <td>4713</td>\n",
       "    </tr>\n",
       "  </tbody>\n",
       "</table>\n",
       "</div>"
      ],
      "text/plain": [
       "        counts\n",
       "values        \n",
       "1.0      21550\n",
       "2.0      37446\n",
       "3.0       8681\n",
       "NaN       4713"
      ]
     },
     "execution_count": 9,
     "metadata": {},
     "output_type": "execute_result"
    }
   ],
   "source": [
    "value_counts(gss['happy'])"
   ]
  },
  {
   "cell_type": "code",
   "execution_count": 10,
   "id": "12b58815",
   "metadata": {},
   "outputs": [
    {
     "data": {
      "text/html": [
       "<div>\n",
       "<style scoped>\n",
       "    .dataframe tbody tr th:only-of-type {\n",
       "        vertical-align: middle;\n",
       "    }\n",
       "\n",
       "    .dataframe tbody tr th {\n",
       "        vertical-align: top;\n",
       "    }\n",
       "\n",
       "    .dataframe thead th {\n",
       "        text-align: right;\n",
       "    }\n",
       "</style>\n",
       "<table border=\"1\" class=\"dataframe\">\n",
       "  <thead>\n",
       "    <tr style=\"text-align: right;\">\n",
       "      <th></th>\n",
       "      <th>counts</th>\n",
       "    </tr>\n",
       "    <tr>\n",
       "      <th>values</th>\n",
       "      <th></th>\n",
       "    </tr>\n",
       "  </thead>\n",
       "  <tbody>\n",
       "    <tr>\n",
       "      <th>0.0</th>\n",
       "      <td>46127</td>\n",
       "    </tr>\n",
       "    <tr>\n",
       "      <th>1.0</th>\n",
       "      <td>21550</td>\n",
       "    </tr>\n",
       "    <tr>\n",
       "      <th>NaN</th>\n",
       "      <td>4713</td>\n",
       "    </tr>\n",
       "  </tbody>\n",
       "</table>\n",
       "</div>"
      ],
      "text/plain": [
       "        counts\n",
       "values        \n",
       "0.0      46127\n",
       "1.0      21550\n",
       "NaN       4713"
      ]
     },
     "execution_count": 10,
     "metadata": {},
     "output_type": "execute_result"
    }
   ],
   "source": [
    "missing = gss['happy'].isna()\n",
    "gss['y'] = (gss['happy'] == 1).astype(float).mask(missing)\n",
    "value_counts(gss['y'])"
   ]
  },
  {
   "cell_type": "code",
   "execution_count": 11,
   "id": "3c8e6e93",
   "metadata": {},
   "outputs": [
    {
     "data": {
      "text/plain": [
       "(3523, 58)"
      ]
     },
     "execution_count": 11,
     "metadata": {},
     "output_type": "execute_result"
    }
   ],
   "source": [
    "gss2022 = gss.query('year == 2022').dropna(subset=['sex', 'happy'])\n",
    "gss2022.shape"
   ]
  },
  {
   "cell_type": "code",
   "execution_count": 12,
   "id": "e021ba55",
   "metadata": {},
   "outputs": [
    {
     "data": {
      "text/plain": [
       "sex\n",
       "2.0    1785\n",
       "1.0    1738\n",
       "Name: count, dtype: int64"
      ]
     },
     "execution_count": 12,
     "metadata": {},
     "output_type": "execute_result"
    }
   ],
   "source": [
    "gss2022[\"sex\"].value_counts()"
   ]
  },
  {
   "cell_type": "code",
   "execution_count": 13,
   "id": "6053d802",
   "metadata": {},
   "outputs": [
    {
     "data": {
      "text/html": [
       "<div>\n",
       "<style scoped>\n",
       "    .dataframe tbody tr th:only-of-type {\n",
       "        vertical-align: middle;\n",
       "    }\n",
       "\n",
       "    .dataframe tbody tr th {\n",
       "        vertical-align: top;\n",
       "    }\n",
       "\n",
       "    .dataframe thead th {\n",
       "        text-align: right;\n",
       "    }\n",
       "</style>\n",
       "<table border=\"1\" class=\"dataframe\">\n",
       "  <thead>\n",
       "    <tr style=\"text-align: right;\">\n",
       "      <th></th>\n",
       "      <th>count</th>\n",
       "      <th>mean</th>\n",
       "      <th>std</th>\n",
       "      <th>min</th>\n",
       "      <th>25%</th>\n",
       "      <th>50%</th>\n",
       "      <th>75%</th>\n",
       "      <th>max</th>\n",
       "    </tr>\n",
       "    <tr>\n",
       "      <th>sex</th>\n",
       "      <th></th>\n",
       "      <th></th>\n",
       "      <th></th>\n",
       "      <th></th>\n",
       "      <th></th>\n",
       "      <th></th>\n",
       "      <th></th>\n",
       "      <th></th>\n",
       "    </tr>\n",
       "  </thead>\n",
       "  <tbody>\n",
       "    <tr>\n",
       "      <th>1.0</th>\n",
       "      <td>1738.0</td>\n",
       "      <td>0.234177</td>\n",
       "      <td>0.423605</td>\n",
       "      <td>0.0</td>\n",
       "      <td>0.0</td>\n",
       "      <td>0.0</td>\n",
       "      <td>0.0</td>\n",
       "      <td>1.0</td>\n",
       "    </tr>\n",
       "    <tr>\n",
       "      <th>2.0</th>\n",
       "      <td>1785.0</td>\n",
       "      <td>0.249860</td>\n",
       "      <td>0.433053</td>\n",
       "      <td>0.0</td>\n",
       "      <td>0.0</td>\n",
       "      <td>0.0</td>\n",
       "      <td>0.0</td>\n",
       "      <td>1.0</td>\n",
       "    </tr>\n",
       "  </tbody>\n",
       "</table>\n",
       "</div>"
      ],
      "text/plain": [
       "      count      mean       std  min  25%  50%  75%  max\n",
       "sex                                                     \n",
       "1.0  1738.0  0.234177  0.423605  0.0  0.0  0.0  0.0  1.0\n",
       "2.0  1785.0  0.249860  0.433053  0.0  0.0  0.0  0.0  1.0"
      ]
     },
     "execution_count": 13,
     "metadata": {},
     "output_type": "execute_result"
    }
   ],
   "source": [
    "gss2022.groupby('sex')['y'].describe()"
   ]
  },
  {
   "cell_type": "code",
   "execution_count": 14,
   "id": "4dbd2abf",
   "metadata": {},
   "outputs": [],
   "source": [
    "X = gss2022['sex'].values - 1\n",
    "y = gss2022['y'].values"
   ]
  },
  {
   "cell_type": "code",
   "execution_count": 78,
   "id": "f393ce28",
   "metadata": {},
   "outputs": [],
   "source": [
    "with pm.Model() as logistic_model:\n",
    "    # Priors for the coefficients\n",
    "    intercept = pm.Normal('intercept', mu=0, sigma=10)\n",
    "    beta_sex = pm.Normal('beta_sex', mu=0, sigma=10)\n",
    "\n",
    "    # Linear combination of coefficients and independent variables\n",
    "    logit_p = intercept + beta_sex * X\n",
    "\n",
    "    # Link function (sigmoid)\n",
    "    p = pm.math.sigmoid(logit_p)\n",
    "\n",
    "    # observed data\n",
    "    y_obs = pm.Bernoulli('y_obs', p=p, observed=y)"
   ]
  },
  {
   "cell_type": "code",
   "execution_count": 78,
   "id": "7f01390d",
   "metadata": {},
   "outputs": [],
   "source": [
    "with pm.Model() as logistic_model:\n",
    "    # Priors for the coefficients\n",
    "    intercept = pm.Normal('intercept', mu=0, sigma=10)\n",
    "    beta_sex = pm.Normal('beta_sex', mu=0, sigma=10)\n",
    "\n",
    "    # Linear combination of coefficients and independent variables\n",
    "    logit_p = intercept + beta_sex * X\n",
    "\n",
    "    # observed data\n",
    "    y_obs = pm.Bernoulli('y_obs', logit_p=logit_p, observed=y)"
   ]
  },
  {
   "cell_type": "code",
   "execution_count": 79,
   "id": "29062a7f",
   "metadata": {},
   "outputs": [
    {
     "data": {
      "image/svg+xml": [
       "<?xml version=\"1.0\" encoding=\"UTF-8\" standalone=\"no\"?>\n",
       "<!DOCTYPE svg PUBLIC \"-//W3C//DTD SVG 1.1//EN\"\n",
       " \"http://www.w3.org/Graphics/SVG/1.1/DTD/svg11.dtd\">\n",
       "<!-- Generated by graphviz version 2.43.0 (0)\n",
       " -->\n",
       "<!-- Title: %3 Pages: 1 -->\n",
       "<svg width=\"254pt\" height=\"233pt\"\n",
       " viewBox=\"0.00 0.00 253.84 232.91\" xmlns=\"http://www.w3.org/2000/svg\" xmlns:xlink=\"http://www.w3.org/1999/xlink\">\n",
       "<g id=\"graph0\" class=\"graph\" transform=\"scale(1 1) rotate(0) translate(4 228.91)\">\n",
       "<title>%3</title>\n",
       "<polygon fill=\"white\" stroke=\"transparent\" points=\"-4,4 -4,-228.91 249.84,-228.91 249.84,4 -4,4\"/>\n",
       "<g id=\"clust1\" class=\"cluster\">\n",
       "<title>cluster3523</title>\n",
       "<path fill=\"none\" stroke=\"black\" d=\"M67.86,-8C67.86,-8 175.86,-8 175.86,-8 181.86,-8 187.86,-14 187.86,-20 187.86,-20 187.86,-109.95 187.86,-109.95 187.86,-115.95 181.86,-121.95 175.86,-121.95 175.86,-121.95 67.86,-121.95 67.86,-121.95 61.86,-121.95 55.86,-115.95 55.86,-109.95 55.86,-109.95 55.86,-20 55.86,-20 55.86,-14 61.86,-8 67.86,-8\"/>\n",
       "<text text-anchor=\"middle\" x=\"161.36\" y=\"-15.8\" font-family=\"Times,serif\" font-size=\"14.00\">3523</text>\n",
       "</g>\n",
       "<!-- beta_sex -->\n",
       "<g id=\"node1\" class=\"node\">\n",
       "<title>beta_sex</title>\n",
       "<ellipse fill=\"none\" stroke=\"black\" cx=\"55.86\" cy=\"-187.43\" rx=\"55.72\" ry=\"37.45\"/>\n",
       "<text text-anchor=\"middle\" x=\"55.86\" y=\"-198.73\" font-family=\"Times,serif\" font-size=\"14.00\">beta_sex</text>\n",
       "<text text-anchor=\"middle\" x=\"55.86\" y=\"-183.73\" font-family=\"Times,serif\" font-size=\"14.00\">~</text>\n",
       "<text text-anchor=\"middle\" x=\"55.86\" y=\"-168.73\" font-family=\"Times,serif\" font-size=\"14.00\">Normal</text>\n",
       "</g>\n",
       "<!-- y_obs -->\n",
       "<g id=\"node3\" class=\"node\">\n",
       "<title>y_obs</title>\n",
       "<ellipse fill=\"lightgrey\" stroke=\"black\" cx=\"121.86\" cy=\"-76.48\" rx=\"57.97\" ry=\"37.45\"/>\n",
       "<text text-anchor=\"middle\" x=\"121.86\" y=\"-87.78\" font-family=\"Times,serif\" font-size=\"14.00\">y_obs</text>\n",
       "<text text-anchor=\"middle\" x=\"121.86\" y=\"-72.78\" font-family=\"Times,serif\" font-size=\"14.00\">~</text>\n",
       "<text text-anchor=\"middle\" x=\"121.86\" y=\"-57.78\" font-family=\"Times,serif\" font-size=\"14.00\">Bernoulli</text>\n",
       "</g>\n",
       "<!-- beta_sex&#45;&gt;y_obs -->\n",
       "<g id=\"edge1\" class=\"edge\">\n",
       "<title>beta_sex&#45;&gt;y_obs</title>\n",
       "<path fill=\"none\" stroke=\"black\" d=\"M76.38,-152.55C82.53,-142.4 89.36,-131.13 95.81,-120.48\"/>\n",
       "<polygon fill=\"black\" stroke=\"black\" points=\"98.94,-122.07 101.13,-111.71 92.95,-118.45 98.94,-122.07\"/>\n",
       "</g>\n",
       "<!-- intercept -->\n",
       "<g id=\"node2\" class=\"node\">\n",
       "<title>intercept</title>\n",
       "<ellipse fill=\"none\" stroke=\"black\" cx=\"187.86\" cy=\"-187.43\" rx=\"57.97\" ry=\"37.45\"/>\n",
       "<text text-anchor=\"middle\" x=\"187.86\" y=\"-198.73\" font-family=\"Times,serif\" font-size=\"14.00\">intercept</text>\n",
       "<text text-anchor=\"middle\" x=\"187.86\" y=\"-183.73\" font-family=\"Times,serif\" font-size=\"14.00\">~</text>\n",
       "<text text-anchor=\"middle\" x=\"187.86\" y=\"-168.73\" font-family=\"Times,serif\" font-size=\"14.00\">Normal</text>\n",
       "</g>\n",
       "<!-- intercept&#45;&gt;y_obs -->\n",
       "<g id=\"edge2\" class=\"edge\">\n",
       "<title>intercept&#45;&gt;y_obs</title>\n",
       "<path fill=\"none\" stroke=\"black\" d=\"M167.16,-152.26C161.02,-142.11 154.21,-130.88 147.78,-120.26\"/>\n",
       "<polygon fill=\"black\" stroke=\"black\" points=\"150.66,-118.27 142.49,-111.53 144.68,-121.9 150.66,-118.27\"/>\n",
       "</g>\n",
       "</g>\n",
       "</svg>\n"
      ],
      "text/plain": [
       "<graphviz.graphs.Digraph at 0x7fedb67bc5c0>"
      ]
     },
     "execution_count": 79,
     "metadata": {},
     "output_type": "execute_result"
    }
   ],
   "source": [
    "pm.model_to_graphviz(logistic_model)"
   ]
  },
  {
   "cell_type": "markdown",
   "id": "3d6e5379",
   "metadata": {},
   "source": [
    "First we'll sample from the prior and prior predictive distributions."
   ]
  },
  {
   "cell_type": "code",
   "execution_count": 80,
   "id": "4b901d2b",
   "metadata": {},
   "outputs": [
    {
     "name": "stderr",
     "output_type": "stream",
     "text": [
      "Sampling: [beta_sex, intercept, y_obs]\n"
     ]
    }
   ],
   "source": [
    "with logistic_model:\n",
    "    idata_prior = pm.sample_prior_predictive()"
   ]
  },
  {
   "cell_type": "code",
   "execution_count": 81,
   "id": "fba8a307",
   "metadata": {},
   "outputs": [
    {
     "data": {
      "text/plain": [
       "<Axes: >"
      ]
     },
     "execution_count": 81,
     "metadata": {},
     "output_type": "execute_result"
    },
    {
     "data": {
      "image/png": "[encoded data removed]",
      "text/plain": [
       "<Figure size 450x262.5 with 1 Axes>"
      ]
     },
     "metadata": {},
     "output_type": "display_data"
    }
   ],
   "source": [
    "from empiricaldist import Cdf\n",
    "\n",
    "beta_sex = idata_prior.prior['beta_sex'].values.flatten()\n",
    "intercept = idata_prior.prior['intercept'].values.flatten()\n",
    "\n",
    "Cdf.from_seq(beta_sex).plot()\n",
    "Cdf.from_seq(intercept).plot()"
   ]
  },
  {
   "cell_type": "code",
   "execution_count": 82,
   "id": "87aa3f32",
   "metadata": {},
   "outputs": [
    {
     "data": {
      "text/plain": [
       "<Axes: >"
      ]
     },
     "execution_count": 82,
     "metadata": {},
     "output_type": "execute_result"
    },
    {
     "data": {
      "image/png": "[encoded data removed]",
      "text/plain": [
       "<Figure size 450x262.5 with 1 Axes>"
      ]
     },
     "metadata": {},
     "output_type": "display_data"
    }
   ],
   "source": [
    "y_obs = idata_prior.prior_predictive['y_obs'].values.flatten()\n",
    "Cdf.from_seq(y_obs).plot()"
   ]
  },
  {
   "cell_type": "code",
   "execution_count": 83,
   "id": "14e8ecbd",
   "metadata": {},
   "outputs": [
    {
     "name": "stderr",
     "output_type": "stream",
     "text": [
      "Auto-assigning NUTS sampler...\n",
      "Initializing NUTS using jitter+adapt_diag...\n",
      "Multiprocess sampling (4 chains in 4 jobs)\n",
      "NUTS: [intercept, beta_sex]\n"
     ]
    },
    {
     "data": {
      "application/vnd.jupyter.widget-view+json": {
       "model_id": "de7a0960c18643a9bf85551f0853e644",
       "version_major": 2,
       "version_minor": 0
      },
      "text/plain": [
       "Output()"
      ]
     },
     "metadata": {},
     "output_type": "display_data"
    },
    {
     "data": {
      "text/html": [
       "<pre style=\"white-space:pre;overflow-x:auto;line-height:normal;font-family:Menlo,'DejaVu Sans Mono',consolas,'Courier New',monospace\"></pre>\n"
      ],
      "text/plain": []
     },
     "metadata": {},
     "output_type": "display_data"
    },
    {
     "data": {
      "text/html": [
       "<pre style=\"white-space:pre;overflow-x:auto;line-height:normal;font-family:Menlo,'DejaVu Sans Mono',consolas,'Courier New',monospace\">\n",
       "</pre>\n"
      ],
      "text/plain": [
       "\n"
      ]
     },
     "metadata": {},
     "output_type": "display_data"
    },
    {
     "name": "stderr",
     "output_type": "stream",
     "text": [
      "Sampling 4 chains for 1_000 tune and 1_000 draw iterations (4_000 + 4_000 draws total) took 4 seconds.\n"
     ]
    }
   ],
   "source": [
    "with logistic_model:\n",
    "    idata = pm.sample()"
   ]
  },
  {
   "cell_type": "code",
   "execution_count": 85,
   "id": "ab460206",
   "metadata": {},
   "outputs": [
    {
     "data": {
      "text/html": [
       "<div>\n",
       "<style scoped>\n",
       "    .dataframe tbody tr th:only-of-type {\n",
       "        vertical-align: middle;\n",
       "    }\n",
       "\n",
       "    .dataframe tbody tr th {\n",
       "        vertical-align: top;\n",
       "    }\n",
       "\n",
       "    .dataframe thead th {\n",
       "        text-align: right;\n",
       "    }\n",
       "</style>\n",
       "<table border=\"1\" class=\"dataframe\">\n",
       "  <thead>\n",
       "    <tr style=\"text-align: right;\">\n",
       "      <th></th>\n",
       "      <th>mean</th>\n",
       "      <th>sd</th>\n",
       "      <th>hdi_3%</th>\n",
       "      <th>hdi_97%</th>\n",
       "      <th>mcse_mean</th>\n",
       "      <th>mcse_sd</th>\n",
       "      <th>ess_bulk</th>\n",
       "      <th>ess_tail</th>\n",
       "      <th>r_hat</th>\n",
       "    </tr>\n",
       "  </thead>\n",
       "  <tbody>\n",
       "    <tr>\n",
       "      <th>intercept</th>\n",
       "      <td>-1.184</td>\n",
       "      <td>0.056</td>\n",
       "      <td>-1.287</td>\n",
       "      <td>-1.074</td>\n",
       "      <td>0.002</td>\n",
       "      <td>0.001</td>\n",
       "      <td>1237.0</td>\n",
       "      <td>1587.0</td>\n",
       "      <td>1.0</td>\n",
       "    </tr>\n",
       "    <tr>\n",
       "      <th>beta_sex</th>\n",
       "      <td>0.082</td>\n",
       "      <td>0.079</td>\n",
       "      <td>-0.074</td>\n",
       "      <td>0.221</td>\n",
       "      <td>0.002</td>\n",
       "      <td>0.002</td>\n",
       "      <td>1174.0</td>\n",
       "      <td>1707.0</td>\n",
       "      <td>1.0</td>\n",
       "    </tr>\n",
       "  </tbody>\n",
       "</table>\n",
       "</div>"
      ],
      "text/plain": [
       "            mean     sd  hdi_3%  hdi_97%  mcse_mean  mcse_sd  ess_bulk  \\\n",
       "intercept -1.184  0.056  -1.287   -1.074      0.002    0.001    1237.0   \n",
       "beta_sex   0.082  0.079  -0.074    0.221      0.002    0.002    1174.0   \n",
       "\n",
       "           ess_tail  r_hat  \n",
       "intercept    1587.0    1.0  \n",
       "beta_sex     1707.0    1.0  "
      ]
     },
     "execution_count": 85,
     "metadata": {},
     "output_type": "execute_result"
    }
   ],
   "source": [
    "pm.summary(idata)"
   ]
  },
  {
   "cell_type": "code",
   "execution_count": 86,
   "id": "40880262",
   "metadata": {},
   "outputs": [
    {
     "data": {
      "image/png": "[encoded data removed]",
      "text/plain": [
       "<Figure size 900x300 with 4 Axes>"
      ]
     },
     "metadata": {},
     "output_type": "display_data"
    }
   ],
   "source": [
    "pm.plot_trace(idata)\n",
    "plt.tight_layout()"
   ]
  },
  {
   "cell_type": "code",
   "execution_count": 87,
   "id": "2731f31a",
   "metadata": {},
   "outputs": [
    {
     "data": {
      "image/png": "[encoded data removed]",
      "text/plain": [
       "<Figure size 1035x301.875 with 2 Axes>"
      ]
     },
     "metadata": {},
     "output_type": "display_data"
    }
   ],
   "source": [
    "pm.plot_posterior(idata)\n",
    "plt.tight_layout()"
   ]
  },
  {
   "cell_type": "code",
   "execution_count": null,
   "id": "b6f385c6",
   "metadata": {},
   "outputs": [],
   "source": []
  },
  {
   "cell_type": "code",
   "execution_count": 24,
   "id": "a9e2bf89",
   "metadata": {},
   "outputs": [],
   "source": [
    "def get_sample(idata, var_name):\n",
    "    \"\"\"Extract a posterior sample from idata\n",
    "    \n",
    "    idata: InferenceData object\n",
    "    var_name: string\n",
    "    \n",
    "    returns: NumPy array\n",
    "    \"\"\"\n",
    "    return idata.posterior[var_name].values.flatten()"
   ]
  },
  {
   "cell_type": "code",
   "execution_count": 25,
   "id": "5572768a",
   "metadata": {},
   "outputs": [
    {
     "data": {
      "text/plain": [
       "(0.2341730213763489, array([0.21543519, 0.25307751]))"
      ]
     },
     "execution_count": 25,
     "metadata": {},
     "output_type": "execute_result"
    }
   ],
   "source": [
    "from scipy.special import expit\n",
    "\n",
    "intercepts = get_sample(idata, 'intercept')\n",
    "ps = expit(intercepts)\n",
    "\n",
    "np.mean(ps), np.percentile(ps, [3, 97])"
   ]
  },
  {
   "cell_type": "code",
   "execution_count": 26,
   "id": "bfeffeba",
   "metadata": {},
   "outputs": [
    {
     "data": {
      "text/plain": [
       "(0.25020538738940623, array([0.23078182, 0.26947407]))"
      ]
     },
     "execution_count": 26,
     "metadata": {},
     "output_type": "execute_result"
    }
   ],
   "source": [
    "betas = get_sample(idata, 'beta_sex')\n",
    "ps = expit(intercepts + betas)\n",
    "\n",
    "np.mean(ps), np.percentile(ps, [3, 97])"
   ]
  },
  {
   "cell_type": "markdown",
   "id": "63bc591f",
   "metadata": {},
   "source": [
    "## Contour plots"
   ]
  },
  {
   "cell_type": "markdown",
   "id": "2d197b02",
   "metadata": {},
   "source": [
    "To show the relationship between elapsed time and arrival rate, let's make a contour plot of their joint distribution."
   ]
  },
  {
   "cell_type": "code",
   "execution_count": 27,
   "id": "55f3fa27",
   "metadata": {},
   "outputs": [],
   "source": [
    "from scipy.stats import gaussian_kde\n",
    "\n",
    "def joint_contour(x, y):\n",
    "    data = np.vstack([x, y])\n",
    "    kde = gaussian_kde(data)\n",
    "\n",
    "    xs = np.linspace(x.min(), x.max(), 101)\n",
    "    ys = np.linspace(y.min(), y.max(), 101)\n",
    "    X, Y = np.meshgrid(xs, ys, indexing='ij')\n",
    "\n",
    "    positions = np.vstack([X.ravel(), Y.ravel()])\n",
    "    kde_values = kde(positions).reshape(X.shape)\n",
    "\n",
    "    plt.contour(X, Y, kde_values, cmap='Blues')"
   ]
  },
  {
   "cell_type": "code",
   "execution_count": 28,
   "id": "021935b5",
   "metadata": {},
   "outputs": [
    {
     "data": {
      "image/png": "[encoded data removed]",
      "text/plain": [
       "<Figure size 450x262.5 with 1 Axes>"
      ]
     },
     "metadata": {},
     "output_type": "display_data"
    }
   ],
   "source": [
    "joint_contour(intercepts, betas)\n",
    "decorate(xlabel='Intercept', ylabel='Beta')"
   ]
  },
  {
   "cell_type": "markdown",
   "id": "6c1dfa3b",
   "metadata": {},
   "source": [
    "## Ordered Logistic Regression\n",
    "\n",
    "First attempt, using OrderedLogistic likelihood"
   ]
  },
  {
   "cell_type": "code",
   "execution_count": 60,
   "id": "3f312da0",
   "metadata": {},
   "outputs": [],
   "source": [
    "gss2022 = gss.query('year == 2022').dropna(subset=['sex', 'happy'])"
   ]
  },
  {
   "cell_type": "code",
   "execution_count": 61,
   "id": "7ef3ad8b",
   "metadata": {},
   "outputs": [
    {
     "data": {
      "text/plain": [
       "happy\n",
       "1.0     853\n",
       "2.0    1943\n",
       "3.0     727\n",
       "Name: count, dtype: int64"
      ]
     },
     "execution_count": 61,
     "metadata": {},
     "output_type": "execute_result"
    }
   ],
   "source": [
    "gss2022['happy'].value_counts().sort_index()"
   ]
  },
  {
   "cell_type": "code",
   "execution_count": 62,
   "id": "20a64228",
   "metadata": {},
   "outputs": [
    {
     "data": {
      "text/plain": [
       "1.0    1785\n",
       "0.0    1738\n",
       "Name: count, dtype: int64"
      ]
     },
     "execution_count": 62,
     "metadata": {},
     "output_type": "execute_result"
    }
   ],
   "source": [
    "# shift so 0=male, 1=female\n",
    "X = gss2022['sex'].values - 1\n",
    "pd.Series(X).value_counts()"
   ]
  },
  {
   "cell_type": "code",
   "execution_count": 64,
   "id": "b820f581",
   "metadata": {},
   "outputs": [
    {
     "data": {
      "text/plain": [
       "0.0     727\n",
       "1.0    1943\n",
       "2.0     853\n",
       "Name: count, dtype: int64"
      ]
     },
     "execution_count": 64,
     "metadata": {},
     "output_type": "execute_result"
    }
   ],
   "source": [
    "# flip so it's encoded 0=not very happy, 1=pretty happy, 2=very happy\n",
    "data = 3 - gss2022['happy'].values\n",
    "pd.Series(data).value_counts().sort_index()"
   ]
  },
  {
   "cell_type": "code",
   "execution_count": 75,
   "id": "f33e34d2",
   "metadata": {},
   "outputs": [],
   "source": [
    "with pm.Model() as ordered_logistic_model:\n",
    "    \n",
    "    # Priors for the coefficients\n",
    "    intercept = pm.Normal('intercept', mu=0, sigma=2)\n",
    "    beta_sex = pm.Normal('beta_sex', mu=0, sigma=2)\n",
    "    \n",
    "    # Priors for the cutpoints (thresholds) between categories\n",
    "    cutpoints = pm.Normal('cutpoints', mu=np.array([-1, 1]), sigma=2, shape=2,\n",
    "                          transform=pm.distributions.transforms.ordered)\n",
    "    \n",
    "    # Linear combination of coefficients and independent variables\n",
    "    eta = intercept + beta_sex * X\n",
    "    \n",
    "    # Likelihood: ordered logistic regression\n",
    "    y_obs = pm.OrderedLogistic('y_obs', eta=eta, cutpoints=cutpoints, \n",
    "                               compute_p=False, observed=data)"
   ]
  },
  {
   "cell_type": "code",
   "execution_count": 76,
   "id": "16d70b25",
   "metadata": {},
   "outputs": [
    {
     "name": "stderr",
     "output_type": "stream",
     "text": [
      "Auto-assigning NUTS sampler...\n",
      "Initializing NUTS using jitter+adapt_diag...\n",
      "Multiprocess sampling (4 chains in 4 jobs)\n",
      "NUTS: [intercept, beta_sex, cutpoints]\n"
     ]
    },
    {
     "data": {
      "application/vnd.jupyter.widget-view+json": {
       "model_id": "b0fae53d244348e9a15fdc2ca5fbcb56",
       "version_major": 2,
       "version_minor": 0
      },
      "text/plain": [
       "Output()"
      ]
     },
     "metadata": {},
     "output_type": "display_data"
    },
    {
     "name": "stderr",
     "output_type": "stream",
     "text": [
      "/home/downey/miniconda3/envs/SurveyDataPyMC/lib/python3.12/site-packages/pytensor/compile/function/types.py:970: RuntimeWarning: invalid value encountered in accumulate\n",
      "  self.vm()\n"
     ]
    },
    {
     "data": {
      "text/html": [
       "<pre style=\"white-space:pre;overflow-x:auto;line-height:normal;font-family:Menlo,'DejaVu Sans Mono',consolas,'Courier New',monospace\"></pre>\n"
      ],
      "text/plain": []
     },
     "metadata": {},
     "output_type": "display_data"
    },
    {
     "data": {
      "text/html": [
       "<pre style=\"white-space:pre;overflow-x:auto;line-height:normal;font-family:Menlo,'DejaVu Sans Mono',consolas,'Courier New',monospace\">\n",
       "</pre>\n"
      ],
      "text/plain": [
       "\n"
      ]
     },
     "metadata": {},
     "output_type": "display_data"
    },
    {
     "name": "stderr",
     "output_type": "stream",
     "text": [
      "Sampling 4 chains for 1_000 tune and 500 draw iterations (4_000 + 2_000 draws total) took 156 seconds.\n"
     ]
    }
   ],
   "source": [
    "with ordered_logistic_model:\n",
    "    idata = pm.sample(500)"
   ]
  },
  {
   "cell_type": "code",
   "execution_count": 77,
   "id": "fc2bfd44",
   "metadata": {},
   "outputs": [
    {
     "data": {
      "text/html": [
       "<div>\n",
       "<style scoped>\n",
       "    .dataframe tbody tr th:only-of-type {\n",
       "        vertical-align: middle;\n",
       "    }\n",
       "\n",
       "    .dataframe tbody tr th {\n",
       "        vertical-align: top;\n",
       "    }\n",
       "\n",
       "    .dataframe thead th {\n",
       "        text-align: right;\n",
       "    }\n",
       "</style>\n",
       "<table border=\"1\" class=\"dataframe\">\n",
       "  <thead>\n",
       "    <tr style=\"text-align: right;\">\n",
       "      <th></th>\n",
       "      <th>mean</th>\n",
       "      <th>sd</th>\n",
       "      <th>hdi_3%</th>\n",
       "      <th>hdi_97%</th>\n",
       "      <th>mcse_mean</th>\n",
       "      <th>mcse_sd</th>\n",
       "      <th>ess_bulk</th>\n",
       "      <th>ess_tail</th>\n",
       "      <th>r_hat</th>\n",
       "    </tr>\n",
       "  </thead>\n",
       "  <tbody>\n",
       "    <tr>\n",
       "      <th>intercept</th>\n",
       "      <td>0.083</td>\n",
       "      <td>1.186</td>\n",
       "      <td>-2.038</td>\n",
       "      <td>2.402</td>\n",
       "      <td>0.039</td>\n",
       "      <td>0.029</td>\n",
       "      <td>920.0</td>\n",
       "      <td>951.0</td>\n",
       "      <td>1.01</td>\n",
       "    </tr>\n",
       "    <tr>\n",
       "      <th>beta_sex</th>\n",
       "      <td>0.044</td>\n",
       "      <td>0.066</td>\n",
       "      <td>-0.077</td>\n",
       "      <td>0.170</td>\n",
       "      <td>0.002</td>\n",
       "      <td>0.002</td>\n",
       "      <td>1316.0</td>\n",
       "      <td>1198.0</td>\n",
       "      <td>1.00</td>\n",
       "    </tr>\n",
       "    <tr>\n",
       "      <th>cutpoints[0]</th>\n",
       "      <td>-1.242</td>\n",
       "      <td>1.187</td>\n",
       "      <td>-3.408</td>\n",
       "      <td>1.021</td>\n",
       "      <td>0.039</td>\n",
       "      <td>0.029</td>\n",
       "      <td>915.0</td>\n",
       "      <td>945.0</td>\n",
       "      <td>1.01</td>\n",
       "    </tr>\n",
       "    <tr>\n",
       "      <th>cutpoints[1]</th>\n",
       "      <td>1.246</td>\n",
       "      <td>1.185</td>\n",
       "      <td>-0.800</td>\n",
       "      <td>3.604</td>\n",
       "      <td>0.039</td>\n",
       "      <td>0.028</td>\n",
       "      <td>916.0</td>\n",
       "      <td>908.0</td>\n",
       "      <td>1.01</td>\n",
       "    </tr>\n",
       "  </tbody>\n",
       "</table>\n",
       "</div>"
      ],
      "text/plain": [
       "               mean     sd  hdi_3%  hdi_97%  mcse_mean  mcse_sd  ess_bulk  \\\n",
       "intercept     0.083  1.186  -2.038    2.402      0.039    0.029     920.0   \n",
       "beta_sex      0.044  0.066  -0.077    0.170      0.002    0.002    1316.0   \n",
       "cutpoints[0] -1.242  1.187  -3.408    1.021      0.039    0.029     915.0   \n",
       "cutpoints[1]  1.246  1.185  -0.800    3.604      0.039    0.028     916.0   \n",
       "\n",
       "              ess_tail  r_hat  \n",
       "intercept        951.0   1.01  \n",
       "beta_sex        1198.0   1.00  \n",
       "cutpoints[0]     945.0   1.01  \n",
       "cutpoints[1]     908.0   1.01  "
      ]
     },
     "execution_count": 77,
     "metadata": {},
     "output_type": "execute_result"
    }
   ],
   "source": [
    "pm.summary(idata)"
   ]
  },
  {
   "cell_type": "markdown",
   "id": "828e5138",
   "metadata": {},
   "source": [
    "## Ordered Logistic Regression\n",
    "\n",
    "Version 2: Computing the probabilities explicitly and using Categorical"
   ]
  },
  {
   "cell_type": "code",
   "execution_count": 73,
   "id": "19b7f33c",
   "metadata": {},
   "outputs": [
    {
     "data": {
      "application/vnd.jupyter.widget-view+json": {
       "model_id": "f1ac61c76a19408a93d03d4f2430d38b",
       "version_major": 2,
       "version_minor": 0
      },
      "text/plain": [
       "Output()"
      ]
     },
     "metadata": {},
     "output_type": "display_data"
    },
    {
     "data": {
      "text/html": [
       "<pre style=\"white-space:pre;overflow-x:auto;line-height:normal;font-family:Menlo,'DejaVu Sans Mono',consolas,'Courier New',monospace\">\n",
       "</pre>\n"
      ],
      "text/plain": [
       "\n"
      ]
     },
     "metadata": {},
     "output_type": "display_data"
    },
    {
     "data": {
      "text/html": [
       "<pre style=\"white-space:pre;overflow-x:auto;line-height:normal;font-family:Menlo,'DejaVu Sans Mono',consolas,'Courier New',monospace\"></pre>\n"
      ],
      "text/plain": []
     },
     "metadata": {},
     "output_type": "display_data"
    },
    {
     "data": {
      "text/html": [
       "<pre style=\"white-space:pre;overflow-x:auto;line-height:normal;font-family:Menlo,'DejaVu Sans Mono',consolas,'Courier New',monospace\">\n",
       "</pre>\n"
      ],
      "text/plain": [
       "\n"
      ]
     },
     "metadata": {},
     "output_type": "display_data"
    },
    {
     "name": "stderr",
     "output_type": "stream",
     "text": [
      "/tmp/ipykernel_2835158/719620894.py:35: FutureWarning: The `start` kwarg was renamed to `initvals` and can now do more. Please check the docstring.\n",
      "  idata = pm.sample(500, start=start)\n",
      "Auto-assigning NUTS sampler...\n",
      "Initializing NUTS using jitter+adapt_diag...\n",
      "Multiprocess sampling (4 chains in 4 jobs)\n",
      "NUTS: [intercept, beta_sex, cutpoints]\n"
     ]
    },
    {
     "data": {
      "application/vnd.jupyter.widget-view+json": {
       "model_id": "97a8f628f42a4bfc9ad6ac85930daac9",
       "version_major": 2,
       "version_minor": 0
      },
      "text/plain": [
       "Output()"
      ]
     },
     "metadata": {},
     "output_type": "display_data"
    },
    {
     "name": "stderr",
     "output_type": "stream",
     "text": [
      "/home/downey/miniconda3/envs/SurveyDataPyMC/lib/python3.12/site-packages/pytensor/compile/function/types.py:970: RuntimeWarning: invalid value encountered in accumulate\n",
      "  self.vm()\n",
      "/home/downey/miniconda3/envs/SurveyDataPyMC/lib/python3.12/site-packages/pytensor/compile/function/types.py:970: RuntimeWarning: invalid value encountered in accumulate\n",
      "  self.vm()\n"
     ]
    },
    {
     "data": {
      "text/html": [
       "<pre style=\"white-space:pre;overflow-x:auto;line-height:normal;font-family:Menlo,'DejaVu Sans Mono',consolas,'Courier New',monospace\"></pre>\n"
      ],
      "text/plain": []
     },
     "metadata": {},
     "output_type": "display_data"
    },
    {
     "data": {
      "text/html": [
       "<pre style=\"white-space:pre;overflow-x:auto;line-height:normal;font-family:Menlo,'DejaVu Sans Mono',consolas,'Courier New',monospace\">\n",
       "</pre>\n"
      ],
      "text/plain": [
       "\n"
      ]
     },
     "metadata": {},
     "output_type": "display_data"
    },
    {
     "name": "stderr",
     "output_type": "stream",
     "text": [
      "Sampling 4 chains for 1_000 tune and 500 draw iterations (4_000 + 2_000 draws total) took 128 seconds.\n"
     ]
    }
   ],
   "source": [
    "with pm.Model() as ordered_logistic_model:\n",
    "    \n",
    "    # Priors for the coefficients\n",
    "    intercept = pm.Normal('intercept', mu=0, sigma=3)\n",
    "    beta_sex = pm.Normal('beta_sex', mu=0, sigma=3)\n",
    "    \n",
    "    # Priors for the cutpoints (thresholds) between categories\n",
    "    cutpoints = pm.Normal('cutpoints', mu=np.array([-1, 1]), sigma=2, shape=2,\n",
    "                          transform=pm.distributions.transforms.ordered)\n",
    "    \n",
    "    # Linear combination of coefficients and independent variables\n",
    "    eta = intercept + beta_sex * X\n",
    "    \n",
    "    # Scaling parameter for sigmoid\n",
    "    kappa = 0.5\n",
    "    \n",
    "    # Calculate cumulative probabilities for the three categories\n",
    "    # P(y <= 1), P(y <= 2), and implicitly P(y <= 3) = 1\n",
    "    p1 = pm.math.sigmoid(kappa * (cutpoints[0] - eta))\n",
    "    p2 = pm.math.sigmoid(kappa * (cutpoints[1] - eta))\n",
    "    \n",
    "    # Probabilities for each category (P(y = 1), P(y = 2), P(y = 3))\n",
    "    p_y1 = p1\n",
    "    p_y2 = p2 - p1\n",
    "    p_y3 = 1 - p2\n",
    "    \n",
    "    # Combine probabilities into a matrix (each row sums to 1)\n",
    "    p = pm.math.stack([p_y1, p_y2, p_y3], axis=1)\n",
    "    \n",
    "    # Likelihood: categorical distribution for the observed data\n",
    "    y_obs = pm.Categorical('y_obs', p=p, observed=data)\n",
    "        \n",
    "    idata = pm.sample(500)"
   ]
  },
  {
   "cell_type": "code",
   "execution_count": 74,
   "id": "059b7bd4",
   "metadata": {},
   "outputs": [
    {
     "data": {
      "text/html": [
       "<div>\n",
       "<style scoped>\n",
       "    .dataframe tbody tr th:only-of-type {\n",
       "        vertical-align: middle;\n",
       "    }\n",
       "\n",
       "    .dataframe tbody tr th {\n",
       "        vertical-align: top;\n",
       "    }\n",
       "\n",
       "    .dataframe thead th {\n",
       "        text-align: right;\n",
       "    }\n",
       "</style>\n",
       "<table border=\"1\" class=\"dataframe\">\n",
       "  <thead>\n",
       "    <tr style=\"text-align: right;\">\n",
       "      <th></th>\n",
       "      <th>mean</th>\n",
       "      <th>sd</th>\n",
       "      <th>hdi_3%</th>\n",
       "      <th>hdi_97%</th>\n",
       "      <th>mcse_mean</th>\n",
       "      <th>mcse_sd</th>\n",
       "      <th>ess_bulk</th>\n",
       "      <th>ess_tail</th>\n",
       "      <th>r_hat</th>\n",
       "    </tr>\n",
       "  </thead>\n",
       "  <tbody>\n",
       "    <tr>\n",
       "      <th>intercept</th>\n",
       "      <td>0.038</td>\n",
       "      <td>1.272</td>\n",
       "      <td>-2.130</td>\n",
       "      <td>2.585</td>\n",
       "      <td>0.042</td>\n",
       "      <td>0.031</td>\n",
       "      <td>915.0</td>\n",
       "      <td>1090.0</td>\n",
       "      <td>1.01</td>\n",
       "    </tr>\n",
       "    <tr>\n",
       "      <th>beta_sex</th>\n",
       "      <td>0.038</td>\n",
       "      <td>0.063</td>\n",
       "      <td>-0.090</td>\n",
       "      <td>0.147</td>\n",
       "      <td>0.002</td>\n",
       "      <td>0.001</td>\n",
       "      <td>1029.0</td>\n",
       "      <td>1008.0</td>\n",
       "      <td>1.01</td>\n",
       "    </tr>\n",
       "    <tr>\n",
       "      <th>cutpoints[0]</th>\n",
       "      <td>-1.292</td>\n",
       "      <td>1.271</td>\n",
       "      <td>-3.557</td>\n",
       "      <td>1.139</td>\n",
       "      <td>0.042</td>\n",
       "      <td>0.032</td>\n",
       "      <td>919.0</td>\n",
       "      <td>1089.0</td>\n",
       "      <td>1.01</td>\n",
       "    </tr>\n",
       "    <tr>\n",
       "      <th>cutpoints[1]</th>\n",
       "      <td>1.198</td>\n",
       "      <td>1.272</td>\n",
       "      <td>-1.054</td>\n",
       "      <td>3.635</td>\n",
       "      <td>0.042</td>\n",
       "      <td>0.030</td>\n",
       "      <td>923.0</td>\n",
       "      <td>1029.0</td>\n",
       "      <td>1.00</td>\n",
       "    </tr>\n",
       "  </tbody>\n",
       "</table>\n",
       "</div>"
      ],
      "text/plain": [
       "               mean     sd  hdi_3%  hdi_97%  mcse_mean  mcse_sd  ess_bulk  \\\n",
       "intercept     0.038  1.272  -2.130    2.585      0.042    0.031     915.0   \n",
       "beta_sex      0.038  0.063  -0.090    0.147      0.002    0.001    1029.0   \n",
       "cutpoints[0] -1.292  1.271  -3.557    1.139      0.042    0.032     919.0   \n",
       "cutpoints[1]  1.198  1.272  -1.054    3.635      0.042    0.030     923.0   \n",
       "\n",
       "              ess_tail  r_hat  \n",
       "intercept       1090.0   1.01  \n",
       "beta_sex        1008.0   1.01  \n",
       "cutpoints[0]    1089.0   1.01  \n",
       "cutpoints[1]    1029.0   1.00  "
      ]
     },
     "execution_count": 74,
     "metadata": {},
     "output_type": "execute_result"
    }
   ],
   "source": [
    "pm.summary(idata)"
   ]
  },
  {
   "cell_type": "markdown",
   "id": "13092877",
   "metadata": {},
   "source": [
    "## Ordered Logistic Regression\n",
    "\n",
    "Version 3: computing counts in each category and using Multinomial\n",
    "\n",
    "This works, which confirms that the priors I'm using are reasonable -- so I still don't see why the previous versions don't sample!"
   ]
  },
  {
   "cell_type": "code",
   "execution_count": null,
   "id": "9315f4cc",
   "metadata": {},
   "outputs": [],
   "source": [
    "gss2022 = gss.query('year == 2022').dropna(subset=['sex', 'happy'])"
   ]
  },
  {
   "cell_type": "code",
   "execution_count": null,
   "id": "50a2297b",
   "metadata": {},
   "outputs": [],
   "source": [
    "xtab = pd.crosstab(gss2022['sex'], gss2022['happy'])\n",
    "X = xtab.index.values\n",
    "X"
   ]
  },
  {
   "cell_type": "code",
   "execution_count": null,
   "id": "8de87868",
   "metadata": {},
   "outputs": [],
   "source": [
    "counts = xtab.values\n",
    "counts"
   ]
  },
  {
   "cell_type": "code",
   "execution_count": null,
   "id": "1d778ea4",
   "metadata": {},
   "outputs": [],
   "source": [
    "with pm.Model() as multinomial_model:\n",
    "    # Priors for the coefficients\n",
    "    intercept = pm.Normal('intercept', mu=0, sigma=3)\n",
    "    beta_sex = pm.Normal('beta_sex', mu=0, sigma=3)\n",
    "    \n",
    "    # Priors for the cutpoints (thresholds) between categories\n",
    "    cutpoints = pm.Normal('cutpoints', mu=np.array([-2, 2]), sigma=2, shape=2,\n",
    "                          transform=pm.distributions.transforms.ordered)\n",
    "    \n",
    "    # Linear combination of coefficients and independent variables\n",
    "    eta = intercept + beta_sex * X\n",
    "    \n",
    "    # Adjusted cumulative probabilities using sigmoid\n",
    "    p1 = pm.math.sigmoid(cutpoints[0] - eta)\n",
    "    p2 = pm.math.sigmoid(cutpoints[1] - eta)\n",
    "    \n",
    "    # Probabilities for each category (P(y = 1), P(y = 2), P(y = 3))\n",
    "    p_y1 = p1\n",
    "    p_y2 = p2 - p1\n",
    "    p_y3 = 1 - p2\n",
    "    \n",
    "    # Stack probabilities to get the probability vector for each observation\n",
    "    p = pm.math.stack([p_y1, p_y2, p_y3], axis=1)\n",
    "    \n",
    "    # Likelihood: multinomial distribution for the aggregated counts\n",
    "    y_obs = pm.Multinomial('y_obs', n=counts.sum(axis=1), p=p, observed=counts)\n",
    "    \n",
    "    # Sampling\n",
    "    idata = pm.sample(500)"
   ]
  },
  {
   "cell_type": "code",
   "execution_count": null,
   "id": "1a6e9c3c",
   "metadata": {},
   "outputs": [],
   "source": [
    "# Summary of the posterior distribution\n",
    "pm.summary(idata)"
   ]
  },
  {
   "cell_type": "code",
   "execution_count": null,
   "id": "368f49e1",
   "metadata": {},
   "outputs": [],
   "source": []
  },
  {
   "cell_type": "code",
   "execution_count": null,
   "id": "45326a79",
   "metadata": {},
   "outputs": [],
   "source": []
  }
 ],
 "metadata": {
  "kernelspec": {
   "display_name": "Python 3 (ipykernel)",
   "language": "python",
   "name": "python3"
  },
  "language_info": {
   "codemirror_mode": {
    "name": "ipython",
    "version": 3
   },
   "file_extension": ".py",
   "mimetype": "text/x-python",
   "name": "python",
   "nbconvert_exporter": "python",
   "pygments_lexer": "ipython3",
   "version": "3.12.4"
  }
 },
 "nbformat": 4,
 "nbformat_minor": 5
}
